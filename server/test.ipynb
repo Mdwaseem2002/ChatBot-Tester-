{
 "cells": [
  {
   "cell_type": "code",
   "execution_count": 1,
   "metadata": {},
   "outputs": [],
   "source": [
    "import pathlib\n",
    "import textwrap\n",
    "\n",
    "import google.generativeai as genai\n",
    "\n",
    "from IPython.display import display\n",
    "from IPython.display import Markdown\n",
    "\n",
    "\n",
    "def to_markdown(text):\n",
    "  text = text.replace('•', '  *')\n",
    "  return Markdown(textwrap.indent(text, '> ', predicate=lambda _: True))"
   ]
  },
  {
   "cell_type": "code",
   "execution_count": 2,
   "metadata": {},
   "outputs": [
    {
     "name": "stdout",
     "output_type": "stream",
     "text": [
      "Unexpected exception formatting exception. Falling back to standard exception\n"
     ]
    },
    {
     "name": "stderr",
     "output_type": "stream",
     "text": [
      "Traceback (most recent call last):\n",
      "  File \"/home/waseem/project/chatbot/server/.venv/lib/python3.8/site-packages/IPython/core/interactiveshell.py\", line 3064, in _run_cell\n",
      "    result = runner(coro)\n",
      "  File \"/home/waseem/project/chatbot/server/.venv/lib/python3.8/site-packages/IPython/core/async_helpers.py\", line 129, in _pseudo_sync_runner\n",
      "    coro.send(None)\n",
      "  File \"/home/waseem/project/chatbot/server/.venv/lib/python3.8/site-packages/IPython/core/interactiveshell.py\", line 3236, in run_cell_async\n",
      "    cell_name = compiler.cache(cell, self.execution_count, raw_code=raw_cell)\n",
      "  File \"/home/waseem/project/chatbot/server/.venv/lib/python3.8/site-packages/IPython/core/compilerop.py\", line 155, in cache\n",
      "    name = self.get_code_name(raw_code, transformed_code, number)\n",
      "  File \"/home/waseem/project/chatbot/server/.venv/lib/python3.8/site-packages/ipykernel/compiler.py\", line 105, in get_code_name\n",
      "    return get_file_name(raw_code)\n",
      "  File \"/home/waseem/project/chatbot/server/.venv/lib/python3.8/site-packages/ipykernel/compiler.py\", line 88, in get_file_name\n",
      "    cell_name = os.environ.get(\"IPYKERNEL_CELL_NAME\")\n",
      "AttributeError: 'str' object has no attribute 'get'\n",
      "\n",
      "During handling of the above exception, another exception occurred:\n",
      "\n",
      "Traceback (most recent call last):\n",
      "  File \"/home/waseem/project/chatbot/server/.venv/lib/python3.8/site-packages/IPython/core/interactiveshell.py\", line 2105, in showtraceback\n",
      "    stb = self.InteractiveTB.structured_traceback(\n",
      "  File \"/home/waseem/project/chatbot/server/.venv/lib/python3.8/site-packages/IPython/core/ultratb.py\", line 1396, in structured_traceback\n",
      "    return FormattedTB.structured_traceback(\n",
      "  File \"/home/waseem/project/chatbot/server/.venv/lib/python3.8/site-packages/IPython/core/ultratb.py\", line 1287, in structured_traceback\n",
      "    return VerboseTB.structured_traceback(\n",
      "  File \"/home/waseem/project/chatbot/server/.venv/lib/python3.8/site-packages/IPython/core/ultratb.py\", line 1140, in structured_traceback\n",
      "    formatted_exception = self.format_exception_as_a_whole(etype, evalue, etb, number_of_lines_of_context,\n",
      "  File \"/home/waseem/project/chatbot/server/.venv/lib/python3.8/site-packages/IPython/core/ultratb.py\", line 1028, in format_exception_as_a_whole\n",
      "    head = self.prepare_header(str(etype), self.long_header)\n",
      "  File \"/home/waseem/project/chatbot/server/.venv/lib/python3.8/site-packages/IPython/core/ultratb.py\", line 964, in prepare_header\n",
      "    width = min(75, get_terminal_size()[0])\n",
      "  File \"/home/waseem/project/chatbot/server/.venv/lib/python3.8/site-packages/IPython/utils/terminal.py\", line 125, in get_terminal_size\n",
      "    return _get_terminal_size((defaultx, defaulty))\n",
      "  File \"/usr/lib/python3.8/shutil.py\", line 1333, in get_terminal_size\n",
      "    columns = int(os.environ['COLUMNS'])\n",
      "TypeError: string indices must be integers\n"
     ]
    },
    {
     "name": "stdout",
     "output_type": "stream",
     "text": [
      "ERROR! Session/line number was not unique in database. History logging moved to new session 14\n"
     ]
    }
   ],
   "source": [
    "# fetch environment variables GOOGLE API KEY\n",
    "import os\n",
    "from dotenv import load_dotenv, find_dotenv\n",
    "_ = load_dotenv(find_dotenv()) # read local .env file\n",
    "GOOGLE_API_KEY = os.environ='Y'"
   ]
  },
  {
   "cell_type": "code",
   "execution_count": 2,
   "metadata": {},
   "outputs": [
    {
     "name": "stdout",
     "output_type": "stream",
     "text": [
      "Unexpected exception formatting exception. Falling back to standard exception\n"
     ]
    },
    {
     "name": "stderr",
     "output_type": "stream",
     "text": [
      "Traceback (most recent call last):\n",
      "  File \"/home/waseem/project/chatbot/server/.venv/lib/python3.8/site-packages/IPython/core/interactiveshell.py\", line 3064, in _run_cell\n",
      "    result = runner(coro)\n",
      "  File \"/home/waseem/project/chatbot/server/.venv/lib/python3.8/site-packages/IPython/core/async_helpers.py\", line 129, in _pseudo_sync_runner\n",
      "    coro.send(None)\n",
      "  File \"/home/waseem/project/chatbot/server/.venv/lib/python3.8/site-packages/IPython/core/interactiveshell.py\", line 3236, in run_cell_async\n",
      "    cell_name = compiler.cache(cell, self.execution_count, raw_code=raw_cell)\n",
      "  File \"/home/waseem/project/chatbot/server/.venv/lib/python3.8/site-packages/IPython/core/compilerop.py\", line 155, in cache\n",
      "    name = self.get_code_name(raw_code, transformed_code, number)\n",
      "  File \"/home/waseem/project/chatbot/server/.venv/lib/python3.8/site-packages/ipykernel/compiler.py\", line 105, in get_code_name\n",
      "    return get_file_name(raw_code)\n",
      "  File \"/home/waseem/project/chatbot/server/.venv/lib/python3.8/site-packages/ipykernel/compiler.py\", line 88, in get_file_name\n",
      "    cell_name = os.environ.get(\"IPYKERNEL_CELL_NAME\")\n",
      "AttributeError: 'str' object has no attribute 'get'\n",
      "\n",
      "During handling of the above exception, another exception occurred:\n",
      "\n",
      "Traceback (most recent call last):\n",
      "  File \"/home/waseem/project/chatbot/server/.venv/lib/python3.8/site-packages/IPython/core/interactiveshell.py\", line 2105, in showtraceback\n",
      "    stb = self.InteractiveTB.structured_traceback(\n",
      "  File \"/home/waseem/project/chatbot/server/.venv/lib/python3.8/site-packages/IPython/core/ultratb.py\", line 1396, in structured_traceback\n",
      "    return FormattedTB.structured_traceback(\n",
      "  File \"/home/waseem/project/chatbot/server/.venv/lib/python3.8/site-packages/IPython/core/ultratb.py\", line 1287, in structured_traceback\n",
      "    return VerboseTB.structured_traceback(\n",
      "  File \"/home/waseem/project/chatbot/server/.venv/lib/python3.8/site-packages/IPython/core/ultratb.py\", line 1140, in structured_traceback\n",
      "    formatted_exception = self.format_exception_as_a_whole(etype, evalue, etb, number_of_lines_of_context,\n",
      "  File \"/home/waseem/project/chatbot/server/.venv/lib/python3.8/site-packages/IPython/core/ultratb.py\", line 1028, in format_exception_as_a_whole\n",
      "    head = self.prepare_header(str(etype), self.long_header)\n",
      "  File \"/home/waseem/project/chatbot/server/.venv/lib/python3.8/site-packages/IPython/core/ultratb.py\", line 964, in prepare_header\n",
      "    width = min(75, get_terminal_size()[0])\n",
      "  File \"/home/waseem/project/chatbot/server/.venv/lib/python3.8/site-packages/IPython/utils/terminal.py\", line 125, in get_terminal_size\n",
      "    return _get_terminal_size((defaultx, defaulty))\n",
      "  File \"/usr/lib/python3.8/shutil.py\", line 1333, in get_terminal_size\n",
      "    columns = int(os.environ['COLUMNS'])\n",
      "TypeError: string indices must be integers\n"
     ]
    },
    {
     "name": "stdout",
     "output_type": "stream",
     "text": [
      "ERROR! Session/line number was not unique in database. History logging moved to new session 15\n"
     ]
    }
   ],
   "source": [
    "model = genai.GenerativeModel('gemini-pro')"
   ]
  }
 ],
 "metadata": {
  "kernelspec": {
   "display_name": ".venv",
   "language": "python",
   "name": "python3"
  },
  "language_info": {
   "codemirror_mode": {
    "name": "ipython",
    "version": 3
   },
   "file_extension": ".py",
   "mimetype": "text/x-python",
   "name": "python",
   "nbconvert_exporter": "python",
   "pygments_lexer": "ipython3",
   "version": "3.8.10"
  }
 },
 "nbformat": 4,
 "nbformat_minor": 2
}
