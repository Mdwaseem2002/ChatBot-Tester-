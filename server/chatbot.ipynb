{
 "cells": [
  {
   "cell_type": "code",
   "execution_count": 1,
   "metadata": {},
   "outputs": [
    {
     "name": "stdout",
     "output_type": "stream",
     "text": [
      "Unexpected exception formatting exception. Falling back to standard exception\n"
     ]
    },
    {
     "name": "stderr",
     "output_type": "stream",
     "text": [
      "Traceback (most recent call last):\n",
      "  File \"/home/waseem/project/chatbot/server/.venv/lib/python3.8/site-packages/IPython/core/interactiveshell.py\", line 3064, in _run_cell\n",
      "    result = runner(coro)\n",
      "  File \"/home/waseem/project/chatbot/server/.venv/lib/python3.8/site-packages/IPython/core/async_helpers.py\", line 129, in _pseudo_sync_runner\n",
      "    coro.send(None)\n",
      "  File \"/home/waseem/project/chatbot/server/.venv/lib/python3.8/site-packages/IPython/core/interactiveshell.py\", line 3236, in run_cell_async\n",
      "    cell_name = compiler.cache(cell, self.execution_count, raw_code=raw_cell)\n",
      "  File \"/home/waseem/project/chatbot/server/.venv/lib/python3.8/site-packages/IPython/core/compilerop.py\", line 155, in cache\n",
      "    name = self.get_code_name(raw_code, transformed_code, number)\n",
      "  File \"/home/waseem/project/chatbot/server/.venv/lib/python3.8/site-packages/ipykernel/compiler.py\", line 105, in get_code_name\n",
      "    return get_file_name(raw_code)\n",
      "  File \"/home/waseem/project/chatbot/server/.venv/lib/python3.8/site-packages/ipykernel/compiler.py\", line 88, in get_file_name\n",
      "    cell_name = os.environ.get(\"IPYKERNEL_CELL_NAME\")\n",
      "AttributeError: 'str' object has no attribute 'get'\n",
      "\n",
      "During handling of the above exception, another exception occurred:\n",
      "\n",
      "Traceback (most recent call last):\n",
      "  File \"/home/waseem/project/chatbot/server/.venv/lib/python3.8/site-packages/IPython/core/interactiveshell.py\", line 2105, in showtraceback\n",
      "    stb = self.InteractiveTB.structured_traceback(\n",
      "  File \"/home/waseem/project/chatbot/server/.venv/lib/python3.8/site-packages/IPython/core/ultratb.py\", line 1396, in structured_traceback\n",
      "    return FormattedTB.structured_traceback(\n",
      "  File \"/home/waseem/project/chatbot/server/.venv/lib/python3.8/site-packages/IPython/core/ultratb.py\", line 1287, in structured_traceback\n",
      "    return VerboseTB.structured_traceback(\n",
      "  File \"/home/waseem/project/chatbot/server/.venv/lib/python3.8/site-packages/IPython/core/ultratb.py\", line 1140, in structured_traceback\n",
      "    formatted_exception = self.format_exception_as_a_whole(etype, evalue, etb, number_of_lines_of_context,\n",
      "  File \"/home/waseem/project/chatbot/server/.venv/lib/python3.8/site-packages/IPython/core/ultratb.py\", line 1028, in format_exception_as_a_whole\n",
      "    head = self.prepare_header(str(etype), self.long_header)\n",
      "  File \"/home/waseem/project/chatbot/server/.venv/lib/python3.8/site-packages/IPython/core/ultratb.py\", line 964, in prepare_header\n",
      "    width = min(75, get_terminal_size()[0])\n",
      "  File \"/home/waseem/project/chatbot/server/.venv/lib/python3.8/site-packages/IPython/utils/terminal.py\", line 125, in get_terminal_size\n",
      "    return _get_terminal_size((defaultx, defaulty))\n",
      "  File \"/usr/lib/python3.8/shutil.py\", line 1333, in get_terminal_size\n",
      "    columns = int(os.environ['COLUMNS'])\n",
      "TypeError: string indices must be integers\n"
     ]
    },
    {
     "name": "stdout",
     "output_type": "stream",
     "text": [
      "ERROR! Session/line number was not unique in database. History logging moved to new session 11\n"
     ]
    }
   ],
   "source": [
    "import pathlib\n",
    "import textwrap\n",
    "\n",
    "import google.generativeai as genai\n",
    "\n",
    "from IPython.display import display\n",
    "from IPython.display import Markdown\n",
    "\n",
    "\n",
    "def to_markdown(text):\n",
    "  text = text.replace('•', '  *')\n",
    "  return Markdown(textwrap.indent(text, '> ', predicate=lambda _: True))"
   ]
  },
  {
   "cell_type": "code",
   "execution_count": 1,
   "metadata": {},
   "outputs": [
    {
     "name": "stdout",
     "output_type": "stream",
     "text": [
      "Unexpected exception formatting exception. Falling back to standard exception\n"
     ]
    },
    {
     "name": "stderr",
     "output_type": "stream",
     "text": [
      "Traceback (most recent call last):\n",
      "  File \"/home/waseem/project/chatbot/server/.venv/lib/python3.8/site-packages/IPython/core/interactiveshell.py\", line 3064, in _run_cell\n",
      "    result = runner(coro)\n",
      "  File \"/home/waseem/project/chatbot/server/.venv/lib/python3.8/site-packages/IPython/core/async_helpers.py\", line 129, in _pseudo_sync_runner\n",
      "    coro.send(None)\n",
      "  File \"/home/waseem/project/chatbot/server/.venv/lib/python3.8/site-packages/IPython/core/interactiveshell.py\", line 3236, in run_cell_async\n",
      "    cell_name = compiler.cache(cell, self.execution_count, raw_code=raw_cell)\n",
      "  File \"/home/waseem/project/chatbot/server/.venv/lib/python3.8/site-packages/IPython/core/compilerop.py\", line 155, in cache\n",
      "    name = self.get_code_name(raw_code, transformed_code, number)\n",
      "  File \"/home/waseem/project/chatbot/server/.venv/lib/python3.8/site-packages/ipykernel/compiler.py\", line 105, in get_code_name\n",
      "    return get_file_name(raw_code)\n",
      "  File \"/home/waseem/project/chatbot/server/.venv/lib/python3.8/site-packages/ipykernel/compiler.py\", line 88, in get_file_name\n",
      "    cell_name = os.environ.get(\"IPYKERNEL_CELL_NAME\")\n",
      "AttributeError: 'str' object has no attribute 'get'\n",
      "\n",
      "During handling of the above exception, another exception occurred:\n",
      "\n",
      "Traceback (most recent call last):\n",
      "  File \"/home/waseem/project/chatbot/server/.venv/lib/python3.8/site-packages/IPython/core/interactiveshell.py\", line 2105, in showtraceback\n",
      "    stb = self.InteractiveTB.structured_traceback(\n",
      "  File \"/home/waseem/project/chatbot/server/.venv/lib/python3.8/site-packages/IPython/core/ultratb.py\", line 1396, in structured_traceback\n",
      "    return FormattedTB.structured_traceback(\n",
      "  File \"/home/waseem/project/chatbot/server/.venv/lib/python3.8/site-packages/IPython/core/ultratb.py\", line 1287, in structured_traceback\n",
      "    return VerboseTB.structured_traceback(\n",
      "  File \"/home/waseem/project/chatbot/server/.venv/lib/python3.8/site-packages/IPython/core/ultratb.py\", line 1140, in structured_traceback\n",
      "    formatted_exception = self.format_exception_as_a_whole(etype, evalue, etb, number_of_lines_of_context,\n",
      "  File \"/home/waseem/project/chatbot/server/.venv/lib/python3.8/site-packages/IPython/core/ultratb.py\", line 1028, in format_exception_as_a_whole\n",
      "    head = self.prepare_header(str(etype), self.long_header)\n",
      "  File \"/home/waseem/project/chatbot/server/.venv/lib/python3.8/site-packages/IPython/core/ultratb.py\", line 964, in prepare_header\n",
      "    width = min(75, get_terminal_size()[0])\n",
      "  File \"/home/waseem/project/chatbot/server/.venv/lib/python3.8/site-packages/IPython/utils/terminal.py\", line 125, in get_terminal_size\n",
      "    return _get_terminal_size((defaultx, defaulty))\n",
      "  File \"/usr/lib/python3.8/shutil.py\", line 1333, in get_terminal_size\n",
      "    columns = int(os.environ['COLUMNS'])\n",
      "TypeError: string indices must be integers\n"
     ]
    },
    {
     "name": "stdout",
     "output_type": "stream",
     "text": [
      "ERROR! Session/line number was not unique in database. History logging moved to new session 6\n"
     ]
    }
   ],
   "source": [
    "# fetch environment variables GOOGLE API KEY\n",
    "import os\n",
    "from dotenv import load_dotenv, find_dotenv\n",
    "_ = load_dotenv(find_dotenv()) # read local .env file\n",
    "GOOGLE_API_KEY = os.environ=''"
   ]
  },
  {
   "cell_type": "code",
   "execution_count": 1,
   "metadata": {},
   "outputs": [
    {
     "name": "stdout",
     "output_type": "stream",
     "text": [
      "Unexpected exception formatting exception. Falling back to standard exception\n"
     ]
    },
    {
     "name": "stderr",
     "output_type": "stream",
     "text": [
      "Traceback (most recent call last):\n",
      "  File \"/home/waseem/project/chatbot/server/.venv/lib/python3.8/site-packages/IPython/core/interactiveshell.py\", line 3064, in _run_cell\n",
      "    result = runner(coro)\n",
      "  File \"/home/waseem/project/chatbot/server/.venv/lib/python3.8/site-packages/IPython/core/async_helpers.py\", line 129, in _pseudo_sync_runner\n",
      "    coro.send(None)\n",
      "  File \"/home/waseem/project/chatbot/server/.venv/lib/python3.8/site-packages/IPython/core/interactiveshell.py\", line 3236, in run_cell_async\n",
      "    cell_name = compiler.cache(cell, self.execution_count, raw_code=raw_cell)\n",
      "  File \"/home/waseem/project/chatbot/server/.venv/lib/python3.8/site-packages/IPython/core/compilerop.py\", line 155, in cache\n",
      "    name = self.get_code_name(raw_code, transformed_code, number)\n",
      "  File \"/home/waseem/project/chatbot/server/.venv/lib/python3.8/site-packages/ipykernel/compiler.py\", line 105, in get_code_name\n",
      "    return get_file_name(raw_code)\n",
      "  File \"/home/waseem/project/chatbot/server/.venv/lib/python3.8/site-packages/ipykernel/compiler.py\", line 88, in get_file_name\n",
      "    cell_name = os.environ.get(\"IPYKERNEL_CELL_NAME\")\n",
      "AttributeError: 'str' object has no attribute 'get'\n",
      "\n",
      "During handling of the above exception, another exception occurred:\n",
      "\n",
      "Traceback (most recent call last):\n",
      "  File \"/home/waseem/project/chatbot/server/.venv/lib/python3.8/site-packages/IPython/core/interactiveshell.py\", line 2105, in showtraceback\n",
      "    stb = self.InteractiveTB.structured_traceback(\n",
      "  File \"/home/waseem/project/chatbot/server/.venv/lib/python3.8/site-packages/IPython/core/ultratb.py\", line 1396, in structured_traceback\n",
      "    return FormattedTB.structured_traceback(\n",
      "  File \"/home/waseem/project/chatbot/server/.venv/lib/python3.8/site-packages/IPython/core/ultratb.py\", line 1287, in structured_traceback\n",
      "    return VerboseTB.structured_traceback(\n",
      "  File \"/home/waseem/project/chatbot/server/.venv/lib/python3.8/site-packages/IPython/core/ultratb.py\", line 1140, in structured_traceback\n",
      "    formatted_exception = self.format_exception_as_a_whole(etype, evalue, etb, number_of_lines_of_context,\n",
      "  File \"/home/waseem/project/chatbot/server/.venv/lib/python3.8/site-packages/IPython/core/ultratb.py\", line 1028, in format_exception_as_a_whole\n",
      "    head = self.prepare_header(str(etype), self.long_header)\n",
      "  File \"/home/waseem/project/chatbot/server/.venv/lib/python3.8/site-packages/IPython/core/ultratb.py\", line 964, in prepare_header\n",
      "    width = min(75, get_terminal_size()[0])\n",
      "  File \"/home/waseem/project/chatbot/server/.venv/lib/python3.8/site-packages/IPython/utils/terminal.py\", line 125, in get_terminal_size\n",
      "    return _get_terminal_size((defaultx, defaulty))\n",
      "  File \"/usr/lib/python3.8/shutil.py\", line 1333, in get_terminal_size\n",
      "    columns = int(os.environ['COLUMNS'])\n",
      "TypeError: string indices must be integers\n"
     ]
    }
   ],
   "source": [
    "model = genai.GenerativeModel('gemini-pro')"
   ]
  },
  {
   "cell_type": "code",
   "execution_count": 1,
   "metadata": {},
   "outputs": [
    {
     "name": "stdout",
     "output_type": "stream",
     "text": [
      "Unexpected exception formatting exception. Falling back to standard exception\n"
     ]
    },
    {
     "name": "stderr",
     "output_type": "stream",
     "text": [
      "Traceback (most recent call last):\n",
      "  File \"/home/waseem/project/chatbot/server/.venv/lib/python3.8/site-packages/IPython/core/interactiveshell.py\", line 3064, in _run_cell\n",
      "    result = runner(coro)\n",
      "  File \"/home/waseem/project/chatbot/server/.venv/lib/python3.8/site-packages/IPython/core/async_helpers.py\", line 129, in _pseudo_sync_runner\n",
      "    coro.send(None)\n",
      "  File \"/home/waseem/project/chatbot/server/.venv/lib/python3.8/site-packages/IPython/core/interactiveshell.py\", line 3236, in run_cell_async\n",
      "    cell_name = compiler.cache(cell, self.execution_count, raw_code=raw_cell)\n",
      "  File \"/home/waseem/project/chatbot/server/.venv/lib/python3.8/site-packages/IPython/core/compilerop.py\", line 155, in cache\n",
      "    name = self.get_code_name(raw_code, transformed_code, number)\n",
      "  File \"/home/waseem/project/chatbot/server/.venv/lib/python3.8/site-packages/ipykernel/compiler.py\", line 105, in get_code_name\n",
      "    return get_file_name(raw_code)\n",
      "  File \"/home/waseem/project/chatbot/server/.venv/lib/python3.8/site-packages/ipykernel/compiler.py\", line 88, in get_file_name\n",
      "    cell_name = os.environ.get(\"IPYKERNEL_CELL_NAME\")\n",
      "AttributeError: 'str' object has no attribute 'get'\n",
      "\n",
      "During handling of the above exception, another exception occurred:\n",
      "\n",
      "Traceback (most recent call last):\n",
      "  File \"/home/waseem/project/chatbot/server/.venv/lib/python3.8/site-packages/IPython/core/interactiveshell.py\", line 2105, in showtraceback\n",
      "    stb = self.InteractiveTB.structured_traceback(\n",
      "  File \"/home/waseem/project/chatbot/server/.venv/lib/python3.8/site-packages/IPython/core/ultratb.py\", line 1396, in structured_traceback\n",
      "    return FormattedTB.structured_traceback(\n",
      "  File \"/home/waseem/project/chatbot/server/.venv/lib/python3.8/site-packages/IPython/core/ultratb.py\", line 1287, in structured_traceback\n",
      "    return VerboseTB.structured_traceback(\n",
      "  File \"/home/waseem/project/chatbot/server/.venv/lib/python3.8/site-packages/IPython/core/ultratb.py\", line 1140, in structured_traceback\n",
      "    formatted_exception = self.format_exception_as_a_whole(etype, evalue, etb, number_of_lines_of_context,\n",
      "  File \"/home/waseem/project/chatbot/server/.venv/lib/python3.8/site-packages/IPython/core/ultratb.py\", line 1028, in format_exception_as_a_whole\n",
      "    head = self.prepare_header(str(etype), self.long_header)\n",
      "  File \"/home/waseem/project/chatbot/server/.venv/lib/python3.8/site-packages/IPython/core/ultratb.py\", line 964, in prepare_header\n",
      "    width = min(75, get_terminal_size()[0])\n",
      "  File \"/home/waseem/project/chatbot/server/.venv/lib/python3.8/site-packages/IPython/utils/terminal.py\", line 125, in get_terminal_size\n",
      "    return _get_terminal_size((defaultx, defaulty))\n",
      "  File \"/usr/lib/python3.8/shutil.py\", line 1333, in get_terminal_size\n",
      "    columns = int(os.environ['COLUMNS'])\n",
      "TypeError: string indices must be integers\n"
     ]
    },
    {
     "name": "stdout",
     "output_type": "stream",
     "text": [
      "ERROR! Session/line number was not unique in database. History logging moved to new session 17\n"
     ]
    }
   ],
   "source": [
    "import requests\n",
    "import os\n",
    "\n",
    "# Set the API endpoint and API key.\n",
    "endpoint = \"https://generativelanguage.googleapis.com/v1beta\"\n",
    "api_key = os.getenv('GOOGLE_API_KEY')\n",
    "\n",
    "# Prepare the request body.\n",
    "request_body = {\n",
    "    \"contents\": [\n",
    "        {\n",
    "            \"parts\": [\n",
    "                {\n",
    "                    \"text\": \"Write a story about a Bijapur\"\n",
    "                }\n",
    "            ]\n",
    "        }\n",
    "    ]\n",
    "}\n",
    "\n",
    "# Make the request.\n",
    "response = requests.post(\n",
    "    f\"{endpoint}/models/gemini-pro:generateContent?key={api_key}\",\n",
    "    json=request_body,\n",
    ")\n",
    "\n",
    "# Parse the response.\n",
    "response_json = response.json()"
   ]
  },
  {
   "cell_type": "code",
   "execution_count": 1,
   "metadata": {},
   "outputs": [
    {
     "name": "stdout",
     "output_type": "stream",
     "text": [
      "Unexpected exception formatting exception. Falling back to standard exception\n"
     ]
    },
    {
     "name": "stderr",
     "output_type": "stream",
     "text": [
      "Traceback (most recent call last):\n",
      "  File \"/home/waseem/project/chatbot/server/.venv/lib/python3.8/site-packages/IPython/core/interactiveshell.py\", line 3064, in _run_cell\n",
      "    result = runner(coro)\n",
      "  File \"/home/waseem/project/chatbot/server/.venv/lib/python3.8/site-packages/IPython/core/async_helpers.py\", line 129, in _pseudo_sync_runner\n",
      "    coro.send(None)\n",
      "  File \"/home/waseem/project/chatbot/server/.venv/lib/python3.8/site-packages/IPython/core/interactiveshell.py\", line 3236, in run_cell_async\n",
      "    cell_name = compiler.cache(cell, self.execution_count, raw_code=raw_cell)\n",
      "  File \"/home/waseem/project/chatbot/server/.venv/lib/python3.8/site-packages/IPython/core/compilerop.py\", line 155, in cache\n",
      "    name = self.get_code_name(raw_code, transformed_code, number)\n",
      "  File \"/home/waseem/project/chatbot/server/.venv/lib/python3.8/site-packages/ipykernel/compiler.py\", line 105, in get_code_name\n",
      "    return get_file_name(raw_code)\n",
      "  File \"/home/waseem/project/chatbot/server/.venv/lib/python3.8/site-packages/ipykernel/compiler.py\", line 88, in get_file_name\n",
      "    cell_name = os.environ.get(\"IPYKERNEL_CELL_NAME\")\n",
      "AttributeError: 'str' object has no attribute 'get'\n",
      "\n",
      "During handling of the above exception, another exception occurred:\n",
      "\n",
      "Traceback (most recent call last):\n",
      "  File \"/home/waseem/project/chatbot/server/.venv/lib/python3.8/site-packages/IPython/core/interactiveshell.py\", line 2105, in showtraceback\n",
      "    stb = self.InteractiveTB.structured_traceback(\n",
      "  File \"/home/waseem/project/chatbot/server/.venv/lib/python3.8/site-packages/IPython/core/ultratb.py\", line 1396, in structured_traceback\n",
      "    return FormattedTB.structured_traceback(\n",
      "  File \"/home/waseem/project/chatbot/server/.venv/lib/python3.8/site-packages/IPython/core/ultratb.py\", line 1287, in structured_traceback\n",
      "    return VerboseTB.structured_traceback(\n",
      "  File \"/home/waseem/project/chatbot/server/.venv/lib/python3.8/site-packages/IPython/core/ultratb.py\", line 1140, in structured_traceback\n",
      "    formatted_exception = self.format_exception_as_a_whole(etype, evalue, etb, number_of_lines_of_context,\n",
      "  File \"/home/waseem/project/chatbot/server/.venv/lib/python3.8/site-packages/IPython/core/ultratb.py\", line 1028, in format_exception_as_a_whole\n",
      "    head = self.prepare_header(str(etype), self.long_header)\n",
      "  File \"/home/waseem/project/chatbot/server/.venv/lib/python3.8/site-packages/IPython/core/ultratb.py\", line 964, in prepare_header\n",
      "    width = min(75, get_terminal_size()[0])\n",
      "  File \"/home/waseem/project/chatbot/server/.venv/lib/python3.8/site-packages/IPython/utils/terminal.py\", line 125, in get_terminal_size\n",
      "    return _get_terminal_size((defaultx, defaulty))\n",
      "  File \"/usr/lib/python3.8/shutil.py\", line 1333, in get_terminal_size\n",
      "    columns = int(os.environ['COLUMNS'])\n",
      "TypeError: string indices must be integers\n"
     ]
    },
    {
     "name": "stdout",
     "output_type": "stream",
     "text": [
      "ERROR! Session/line number was not unique in database. History logging moved to new session 18\n"
     ]
    }
   ],
   "source": [
    "generated_content = response_json[\"candidates\"][0]['content']['parts'][0]['text']\n",
    "\n",
    "# Print the generated content.\n",
    "print(generated_content)"
   ]
  },
  {
   "cell_type": "code",
   "execution_count": 4,
   "metadata": {},
   "outputs": [
    {
     "name": "stderr",
     "output_type": "stream",
     "text": [
      "Python-dotenv could not parse statement starting at line 1\n"
     ]
    },
    {
     "name": "stdout",
     "output_type": "stream",
     "text": [
      "Amidst the verdant hills of Ranchi, where the echoes of childhood dreams reverberated, a young boy named Mahendra Singh Dhoni emerged from humble beginnings. With an unassuming demeanor and a steely determination, he embarked on a journey that would forever etch his name in the annals of Indian cricket.\n",
      "\n",
      "As a child, Dhoni's passion for the game was ignited at his local cricket ground. With a makeshift bat and a ball made from discarded socks, he would while away hours honing his skills. His unorthodox style of batting, characterized by a powerful helicopter shot, drew attention from local coaches.\n",
      "\n",
      "In 2001, Dhoni's talent caught the eye of the Bihar selectors, and he made his first-class debut for his home state. However, it was his exploits in the Indian Premier League (IPL) that propelled him into the national spotlight. In the inaugural season of the IPL in 2008, he led the Chennai Super Kings to victory, earning the admiration of fans and critics alike.\n",
      "\n",
      "Dhoni's impressive leadership skills and tactical acumen soon earned him the captaincy of the Indian team. Under his guidance, India achieved unprecedented success in both limited-overs and Test cricket. In 2011, he led the team to a historic victory in the ICC Cricket World Cup, shattering Pakistan's unbeaten streak in the tournament. This triumph cemented Dhoni's status as one of the greatest captains of all time.\n",
      "\n",
      "Beyond his sporting achievements, Dhoni became a cultural icon, inspiring countless young Indians to pursue their dreams. His down-to-earth nature and humble upbringing resonated with people across the country. He was often spotted sharing a cup of tea with his teammates or lending a helping hand to the needy.\n",
      "\n",
      "As the years passed, Dhoni's impact on Indian cricket extended beyond the field. He became a mentor and inspiration to generations of future cricketers, sharing his knowledge and experience with young players. His legacy extends far beyond the trophies and records he accumulated; it lies in the countless lives he has touched and the dreams he has ignited.\n",
      "\n",
      "Today, Mahendra Singh Dhoni stands as a beacon of hope and inspiration for India's youth. From his modest beginnings in Ranchi to his global fame, his journey is a testament to the power of perseverance, determination, and the belief that dreams can come true.\n"
     ]
    }
   ],
   "source": [
    "import requests\n",
    "import os\n",
    "from dotenv import load_dotenv, find_dotenv\n",
    "\n",
    "# Load environment variables from .env file\n",
    "_ = load_dotenv(find_dotenv())\n",
    "\n",
    "# Set the API key\n",
    "api_key = os.environ.get(')\n",
    "\n",
    "# Set the API endpoint\n",
    "endpoint = \"https://generativelanguage.googleapis.com/v1beta\"\n",
    "\n",
    "# Prepare the request body\n",
    "request_body = {\n",
    "    \"contents\": [\n",
    "        {\n",
    "            \"parts\": [\n",
    "                {\n",
    "                    \"text\": \"Write a story about dhoni\"\n",
    "                }\n",
    "            ]\n",
    "        }\n",
    "    ]\n",
    "}\n",
    "\n",
    "# Make the request\n",
    "response = requests.post(\n",
    "    f\"{endpoint}/models/gemini-pro:generateContent?key={''}\",\n",
    "    json=request_body,\n",
    ")\n",
    "\n",
    "# Parse the response\n",
    "response_json = response.json()\n",
    "\n",
    "# Check if 'candidates' key exists in the response JSON\n",
    "if 'candidates' in response_json:\n",
    "    generated_content = response_json[\"candidates\"][0]['content']['parts'][0]['text']\n",
    "    print(generated_content)\n",
    "else:\n",
    "    print(\"No candidates found in the response.\")\n"
   ]
  },
  {
   "cell_type": "code",
   "execution_count": 1,
   "metadata": {},
   "outputs": [
    {
     "name": "stderr",
     "output_type": "stream",
     "text": [
      "Python-dotenv could not parse statement starting at line 1\n"
     ]
    }
   ],
   "source": [
    "from flask import Flask, request, jsonify\n",
    "import requests\n",
    "import os\n",
    "from dotenv import load_dotenv, find_dotenv \n",
    "import flask_cors\n",
    "from flask_cors import CORS\n",
    "\n",
    "app = Flask(__name__)\n",
    "CORS(app)\n",
    "\n",
    "\n",
    "# Load environment variables from .env file\n",
    "load_dotenv(find_dotenv())\n",
    "\n",
    "# Set the API key\n",
    "api_key = os.environ.get('')\n",
    "\n",
    "# Set the API endpoint\n",
    "endpoint = \"https://generativelanguage.googleapis.com/v1beta\"\n",
    "\n",
    "@app.route('/')\n",
    "def index():\n",
    "    return 'Hello, World!'\n"
   ]
  },
  {
   "cell_type": "code",
   "execution_count": 4,
   "metadata": {},
   "outputs": [
    {
     "ename": "AssertionError",
     "evalue": "View function mapping is overwriting an existing endpoint function: generate_content",
     "output_type": "error",
     "traceback": [
      "\u001b[0;31m---------------------------------------------------------------------------\u001b[0m",
      "\u001b[0;31mAssertionError\u001b[0m                            Traceback (most recent call last)",
      "Cell \u001b[0;32mIn[4], line 2\u001b[0m\n\u001b[1;32m      1\u001b[0m \u001b[38;5;129;43m@app\u001b[39;49m\u001b[38;5;241;43m.\u001b[39;49m\u001b[43mroute\u001b[49m\u001b[43m(\u001b[49m\u001b[38;5;124;43m'\u001b[39;49m\u001b[38;5;124;43m/generate_content\u001b[39;49m\u001b[38;5;124;43m'\u001b[39;49m\u001b[43m,\u001b[49m\u001b[43m \u001b[49m\u001b[43mmethods\u001b[49m\u001b[38;5;241;43m=\u001b[39;49m\u001b[43m[\u001b[49m\u001b[38;5;124;43m'\u001b[39;49m\u001b[38;5;124;43mPOST\u001b[39;49m\u001b[38;5;124;43m'\u001b[39;49m\u001b[43m]\u001b[49m\u001b[43m)\u001b[49m\n\u001b[0;32m----> 2\u001b[0m \u001b[38;5;28;43;01mdef\u001b[39;49;00m\u001b[43m \u001b[49m\u001b[38;5;21;43mgenerate_content\u001b[39;49m\u001b[43m(\u001b[49m\u001b[43m)\u001b[49m\u001b[43m:\u001b[49m\n\u001b[1;32m      3\u001b[0m \u001b[43m    \u001b[49m\u001b[38;5;28;43;01mtry\u001b[39;49;00m\u001b[43m:\u001b[49m\n\u001b[1;32m      4\u001b[0m \u001b[43m        \u001b[49m\u001b[38;5;66;43;03m# Get data from the request\u001b[39;49;00m\n\u001b[1;32m      5\u001b[0m \u001b[43m        \u001b[49m\u001b[43mdata\u001b[49m\u001b[43m \u001b[49m\u001b[38;5;241;43m=\u001b[39;49m\u001b[43m \u001b[49m\u001b[43mrequest\u001b[49m\u001b[38;5;241;43m.\u001b[39;49m\u001b[43mjson\u001b[49m\n",
      "File \u001b[0;32m~/project/chatbot/server/.venv/lib/python3.8/site-packages/flask/sansio/scaffold.py:366\u001b[0m, in \u001b[0;36mScaffold.route.<locals>.decorator\u001b[0;34m(f)\u001b[0m\n\u001b[1;32m    364\u001b[0m \u001b[38;5;28;01mdef\u001b[39;00m \u001b[38;5;21mdecorator\u001b[39m(f: T_route) \u001b[38;5;241m-\u001b[39m\u001b[38;5;241m>\u001b[39m T_route:\n\u001b[1;32m    365\u001b[0m     endpoint \u001b[38;5;241m=\u001b[39m options\u001b[38;5;241m.\u001b[39mpop(\u001b[38;5;124m\"\u001b[39m\u001b[38;5;124mendpoint\u001b[39m\u001b[38;5;124m\"\u001b[39m, \u001b[38;5;28;01mNone\u001b[39;00m)\n\u001b[0;32m--> 366\u001b[0m     \u001b[38;5;28;43mself\u001b[39;49m\u001b[38;5;241;43m.\u001b[39;49m\u001b[43madd_url_rule\u001b[49m\u001b[43m(\u001b[49m\u001b[43mrule\u001b[49m\u001b[43m,\u001b[49m\u001b[43m \u001b[49m\u001b[43mendpoint\u001b[49m\u001b[43m,\u001b[49m\u001b[43m \u001b[49m\u001b[43mf\u001b[49m\u001b[43m,\u001b[49m\u001b[43m \u001b[49m\u001b[38;5;241;43m*\u001b[39;49m\u001b[38;5;241;43m*\u001b[39;49m\u001b[43moptions\u001b[49m\u001b[43m)\u001b[49m\n\u001b[1;32m    367\u001b[0m     \u001b[38;5;28;01mreturn\u001b[39;00m f\n",
      "File \u001b[0;32m~/project/chatbot/server/.venv/lib/python3.8/site-packages/flask/sansio/scaffold.py:46\u001b[0m, in \u001b[0;36msetupmethod.<locals>.wrapper_func\u001b[0;34m(self, *args, **kwargs)\u001b[0m\n\u001b[1;32m     44\u001b[0m \u001b[38;5;28;01mdef\u001b[39;00m \u001b[38;5;21mwrapper_func\u001b[39m(\u001b[38;5;28mself\u001b[39m: Scaffold, \u001b[38;5;241m*\u001b[39margs: t\u001b[38;5;241m.\u001b[39mAny, \u001b[38;5;241m*\u001b[39m\u001b[38;5;241m*\u001b[39mkwargs: t\u001b[38;5;241m.\u001b[39mAny) \u001b[38;5;241m-\u001b[39m\u001b[38;5;241m>\u001b[39m t\u001b[38;5;241m.\u001b[39mAny:\n\u001b[1;32m     45\u001b[0m     \u001b[38;5;28mself\u001b[39m\u001b[38;5;241m.\u001b[39m_check_setup_finished(f_name)\n\u001b[0;32m---> 46\u001b[0m     \u001b[38;5;28;01mreturn\u001b[39;00m \u001b[43mf\u001b[49m\u001b[43m(\u001b[49m\u001b[38;5;28;43mself\u001b[39;49m\u001b[43m,\u001b[49m\u001b[43m \u001b[49m\u001b[38;5;241;43m*\u001b[39;49m\u001b[43margs\u001b[49m\u001b[43m,\u001b[49m\u001b[43m \u001b[49m\u001b[38;5;241;43m*\u001b[39;49m\u001b[38;5;241;43m*\u001b[39;49m\u001b[43mkwargs\u001b[49m\u001b[43m)\u001b[49m\n",
      "File \u001b[0;32m~/project/chatbot/server/.venv/lib/python3.8/site-packages/flask/sansio/app.py:661\u001b[0m, in \u001b[0;36mApp.add_url_rule\u001b[0;34m(self, rule, endpoint, view_func, provide_automatic_options, **options)\u001b[0m\n\u001b[1;32m    659\u001b[0m old_func \u001b[38;5;241m=\u001b[39m \u001b[38;5;28mself\u001b[39m\u001b[38;5;241m.\u001b[39mview_functions\u001b[38;5;241m.\u001b[39mget(endpoint)\n\u001b[1;32m    660\u001b[0m \u001b[38;5;28;01mif\u001b[39;00m old_func \u001b[38;5;129;01mis\u001b[39;00m \u001b[38;5;129;01mnot\u001b[39;00m \u001b[38;5;28;01mNone\u001b[39;00m \u001b[38;5;129;01mand\u001b[39;00m old_func \u001b[38;5;241m!=\u001b[39m view_func:\n\u001b[0;32m--> 661\u001b[0m     \u001b[38;5;28;01mraise\u001b[39;00m \u001b[38;5;167;01mAssertionError\u001b[39;00m(\n\u001b[1;32m    662\u001b[0m         \u001b[38;5;124m\"\u001b[39m\u001b[38;5;124mView function mapping is overwriting an existing\u001b[39m\u001b[38;5;124m\"\u001b[39m\n\u001b[1;32m    663\u001b[0m         \u001b[38;5;124mf\u001b[39m\u001b[38;5;124m\"\u001b[39m\u001b[38;5;124m endpoint function: \u001b[39m\u001b[38;5;132;01m{\u001b[39;00mendpoint\u001b[38;5;132;01m}\u001b[39;00m\u001b[38;5;124m\"\u001b[39m\n\u001b[1;32m    664\u001b[0m     )\n\u001b[1;32m    665\u001b[0m \u001b[38;5;28mself\u001b[39m\u001b[38;5;241m.\u001b[39mview_functions[endpoint] \u001b[38;5;241m=\u001b[39m view_func\n",
      "\u001b[0;31mAssertionError\u001b[0m: View function mapping is overwriting an existing endpoint function: generate_content"
     ]
    }
   ],
   "source": [
    "@app.route('/generate_content', methods=['POST'])\n",
    "def generate_content():\n",
    "    try:\n",
    "        # Get data from the request\n",
    "        data = request.json\n",
    "        \n",
    "        # Prepare the request body\n",
    "        request_body = {\n",
    "            \"contents\": [\n",
    "                {\n",
    "                    \"parts\": [\n",
    "                        {\n",
    "                            \"text\": data[\"dhoni age\"]\n",
    "                        }\n",
    "                    ]\n",
    "                }\n",
    "            ]\n",
    "        }\n",
    "        \n",
    "        # Make the request\n",
    "        response = requests.post(\n",
    "            f\"{endpoint}/models/gemini-pro:generateContent?key={''}\",\n",
    "            json=request_body,\n",
    "        )\n",
    "\n",
    "        # Parse the response\n",
    "        response_json = response.json()\n",
    "\n",
    "       # Check if the request was successful\n",
    "        if response.status_code == 200:\n",
    "            # Parse the response\n",
    "            response_json = response.json()\n",
    "\n",
    "            # Check if 'candidates' key exists in the response JSON\n",
    "            if 'candidates' in response_json:\n",
    "                generated_content = response_json[\"candidates\"][0]['content']['parts'][0]['text']\n",
    "                return jsonify({\"generated_content\": generated_content}), 200\n",
    "            else:\n",
    "                return jsonify({\"message\": \"No candidates found in the response.\"}), 404\n",
    "        else:\n",
    "            return jsonify({\"message\": \"Error from Generative Language API\", \"status_code\": response.status_code}), 500\n",
    "    except Exception as e:\n",
    "        return jsonify({\"message\": str(e)}), 500\n"
   ]
  }
 ],
 "metadata": {
  "kernelspec": {
   "display_name": ".venv",
   "language": "python",
   "name": "python3"
  },
  "language_info": {
   "codemirror_mode": {
    "name": "ipython",
    "version": 3
   },
   "file_extension": ".py",
   "mimetype": "text/x-python",
   "name": "python",
   "nbconvert_exporter": "python",
   "pygments_lexer": "ipython3",
   "version": "3.8.10"
  }
 },
 "nbformat": 4,
 "nbformat_minor": 2
}
